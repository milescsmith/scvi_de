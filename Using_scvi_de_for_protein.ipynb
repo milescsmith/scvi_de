{
 "cells": [
  {
   "cell_type": "markdown",
   "id": "235f101f-7eea-4658-abee-0faa5fe8e49e",
   "metadata": {},
   "source": [
    "# Using scvi_de"
   ]
  },
  {
   "cell_type": "code",
   "execution_count": 1,
   "id": "320365e9-8ccf-4d26-8c92-9e54f9470360",
   "metadata": {},
   "outputs": [],
   "source": [
    "%load_ext autoreload\n",
    "%autoreload 2"
   ]
  },
  {
   "cell_type": "code",
   "execution_count": 2,
   "id": "e7adbc4f-ae4b-4d13-8da3-cdffad285cf9",
   "metadata": {
    "tags": []
   },
   "outputs": [
    {
     "name": "stderr",
     "output_type": "stream",
     "text": [
      "/mnt/wsl/PHYSICALDRIVE0p1/workspace/scvi_de/.venv/lib/python3.10/site-packages/tqdm/auto.py:21: TqdmWarning: IProgress not found. Please update jupyter and ipywidgets. See https://ipywidgets.readthedocs.io/en/stable/user_install.html\n",
      "  from .autonotebook import tqdm as notebook_tqdm\n"
     ]
    }
   ],
   "source": [
    "import pandas as pd\n",
    "import numpy as np\n",
    "\n",
    "import scanpy as sc\n",
    "import muon as mu"
   ]
  },
  {
   "cell_type": "markdown",
   "id": "e64936dd-0120-4aac-ab70-f41d489c3b58",
   "metadata": {},
   "source": [
    "if scvi_de hasn't been installed, uncomment and run the following cell"
   ]
  },
  {
   "cell_type": "code",
   "execution_count": 3,
   "id": "dbbecb08-4c9d-432b-ba72-c27e4db407f0",
   "metadata": {},
   "outputs": [],
   "source": [
    "from scvi_de import scvi_de, process_mudata, is_integer_array, create_model"
   ]
  },
  {
   "cell_type": "code",
   "execution_count": 4,
   "id": "1e18d425-8e30-4841-a385-b71bc1d1ff88",
   "metadata": {},
   "outputs": [
    {
     "name": "stderr",
     "output_type": "stream",
     "text": [
      "/mnt/wsl/PHYSICALDRIVE0p1/workspace/scvi_de/.venv/lib/python3.10/site-packages/anndata/_core/anndata.py:430: FutureWarning: The dtype argument is deprecated and will be removed in late 2024.\n",
      "  warnings.warn(\n",
      "/mnt/wsl/PHYSICALDRIVE0p1/workspace/scvi_de/.venv/lib/python3.10/site-packages/anndata/_core/anndata.py:430: FutureWarning: The dtype argument is deprecated and will be removed in late 2024.\n",
      "  warnings.warn(\n"
     ]
    }
   ],
   "source": [
    "submudata = mu.read_h5mu(\"subsubset_bcells.h5mu\")"
   ]
  },
  {
   "cell_type": "code",
   "execution_count": 5,
   "id": "b1bfc8a1-0cef-4ff9-93f7-5ef47dbf70e2",
   "metadata": {},
   "outputs": [],
   "source": [
    "for _ in ('rna', 'prot'):\n",
    "    if 'rank_genes_groups' in submudata[_].uns:\n",
    "        del(submudata[_].uns['rank_genes_groups'])"
   ]
  },
  {
   "cell_type": "code",
   "execution_count": 6,
   "id": "bdbeb937-35a1-4825-ad8d-d1759668518b",
   "metadata": {},
   "outputs": [],
   "source": [
    "for _ in submudata.mod:\n",
    "    submudata[_].X = submudata[_].raw[submudata[_].obs_names,submudata[_].var_names].X.toarray().copy()"
   ]
  },
  {
   "cell_type": "code",
   "execution_count": 7,
   "id": "02db05ed-3356-4bd2-995f-7ebb1ff80c32",
   "metadata": {},
   "outputs": [],
   "source": [
    "import scvi"
   ]
  },
  {
   "cell_type": "code",
   "execution_count": 8,
   "id": "30e97187-4637-44b5-8360-4eff2a2adeee",
   "metadata": {},
   "outputs": [
    {
     "name": "stderr",
     "output_type": "stream",
     "text": [
      "An NVIDIA GPU may be present on this machine, but a CUDA-enabled jaxlib is not installed. Falling back to cpu.\n"
     ]
    },
    {
     "name": "stdout",
     "output_type": "stream",
     "text": [
      "\u001b[34mINFO    \u001b[0m Found batches with missing protein expression                                                             \n"
     ]
    }
   ],
   "source": [
    "scvi.model.TOTALVI.setup_mudata(mdata=submudata, batch_key=\"batch\", modalities={\"rna_layer\": \"rna\", \"protein_layer\": \"prot\"})"
   ]
  },
  {
   "cell_type": "code",
   "execution_count": 9,
   "id": "49fc7384-5f28-49de-9a06-63e7848b0402",
   "metadata": {},
   "outputs": [
    {
     "name": "stdout",
     "output_type": "stream",
     "text": [
      "\u001b[34mINFO    \u001b[0m Computing empirical prior initialization for protein background.                                          \n"
     ]
    },
    {
     "name": "stderr",
     "output_type": "stream",
     "text": [
      "/tmp/ipykernel_29168/677091434.py:1: UserWarning: Some proteins have all 0 counts in some batches. These proteins will be treated as missing measurements; however, this can occur due to experimental design/biology. Reinitialize the model with `override_missing_proteins=True`,to override this behavior.\n",
      "  model = scvi.model.TOTALVI(submudata, protein_dispersion=\"protein-batch\", gene_likelihood=\"zinb\")\n"
     ]
    }
   ],
   "source": [
    "model = scvi.model.TOTALVI(submudata, protein_dispersion=\"protein-batch\", gene_likelihood=\"zinb\")"
   ]
  },
  {
   "cell_type": "code",
   "execution_count": 10,
   "id": "6521df2f-3a0a-42b1-b442-a1e8aeacf1c0",
   "metadata": {},
   "outputs": [
    {
     "name": "stderr",
     "output_type": "stream",
     "text": [
      "GPU available: False, used: False\n",
      "TPU available: False, using: 0 TPU cores\n",
      "IPU available: False, using: 0 IPUs\n",
      "HPU available: False, using: 0 HPUs\n",
      "/mnt/wsl/PHYSICALDRIVE0p1/workspace/scvi_de/.venv/lib/python3.10/site-packages/torch/optim/lr_scheduler.py:28: UserWarning: The verbose parameter is deprecated. Please use get_last_lr() to access the learning rate.\n",
      "  warnings.warn(\"The verbose parameter is deprecated. Please use get_last_lr() \"\n",
      "/mnt/wsl/PHYSICALDRIVE0p1/workspace/scvi_de/.venv/lib/python3.10/site-packages/lightning/pytorch/core/optimizer.py:314: The lr scheduler dict contains the key(s) ['monitor'], but the keys will be ignored. You need to call `lr_scheduler.step()` manually in manual optimization.\n",
      "/mnt/wsl/PHYSICALDRIVE0p1/workspace/scvi_de/.venv/lib/python3.10/site-packages/lightning/pytorch/trainer/connectors/data_connector.py:441: The 'train_dataloader' does not have many workers which may be a bottleneck. Consider increasing the value of the `num_workers` argument` to `num_workers=11` in the `DataLoader` to improve performance.\n",
      "/mnt/wsl/PHYSICALDRIVE0p1/workspace/scvi_de/.venv/lib/python3.10/site-packages/lightning/pytorch/loops/fit_loop.py:293: The number of training batches (3) is smaller than the logging interval Trainer(log_every_n_steps=10). Set a lower value for log_every_n_steps if you want to see logs for the training epoch.\n",
      "/mnt/wsl/PHYSICALDRIVE0p1/workspace/scvi_de/.venv/lib/python3.10/site-packages/lightning/pytorch/trainer/connectors/data_connector.py:441: The 'val_dataloader' does not have many workers which may be a bottleneck. Consider increasing the value of the `num_workers` argument` to `num_workers=11` in the `DataLoader` to improve performance.\n"
     ]
    },
    {
     "name": "stdout",
     "output_type": "stream",
     "text": [
      "Epoch 39/400:  10%|████████████▊                                                                                                                      | 39/400 [00:40<06:16,  1.04s/it, v_num=1, train_loss_step=3.75e+3, train_loss_epoch=4.02e+3]\n",
      "Monitored metric elbo_validation did not improve in the last 20 records. Best score: 7999.908. Signaling Trainer to stop.\n"
     ]
    }
   ],
   "source": [
    "model.train(\n",
    "    check_val_every_n_epoch=1,\n",
    "    max_epochs=400,\n",
    "    early_stopping=True,\n",
    "    early_stopping_patience=20,\n",
    "    early_stopping_monitor=\"elbo_validation\",\n",
    ")"
   ]
  },
  {
   "cell_type": "code",
   "execution_count": 11,
   "id": "32630b4b-301b-4d32-9f35-1b8b1e0cf18a",
   "metadata": {},
   "outputs": [
    {
     "name": "stdout",
     "output_type": "stream",
     "text": [
      "DE...: 100%|█████████████████████████████████████████████████████████████████████████████████████████████████████████████████████████████████████████████████████████████████████████████████████████████████████████| 7/7 [01:24<00:00, 12.12s/it]\n"
     ]
    }
   ],
   "source": [
    "degs = model.differential_expression(groupby=\"leiden_wnn_0.5\", batch_correction=True,)"
   ]
  },
  {
   "cell_type": "code",
   "execution_count": 12,
   "id": "d7c60e73-e750-4b84-b8e6-2eeb9bd38624",
   "metadata": {},
   "outputs": [
    {
     "data": {
      "text/html": [
       "<div>\n",
       "<style scoped>\n",
       "    .dataframe tbody tr th:only-of-type {\n",
       "        vertical-align: middle;\n",
       "    }\n",
       "\n",
       "    .dataframe tbody tr th {\n",
       "        vertical-align: top;\n",
       "    }\n",
       "\n",
       "    .dataframe thead th {\n",
       "        text-align: right;\n",
       "    }\n",
       "</style>\n",
       "<table border=\"1\" class=\"dataframe\">\n",
       "  <thead>\n",
       "    <tr style=\"text-align: right;\">\n",
       "      <th></th>\n",
       "      <th>proba_de</th>\n",
       "      <th>proba_not_de</th>\n",
       "      <th>bayes_factor</th>\n",
       "      <th>scale1</th>\n",
       "      <th>scale2</th>\n",
       "      <th>pseudocounts</th>\n",
       "      <th>delta</th>\n",
       "      <th>lfc_mean</th>\n",
       "      <th>lfc_median</th>\n",
       "      <th>lfc_std</th>\n",
       "      <th>...</th>\n",
       "      <th>raw_mean1</th>\n",
       "      <th>raw_mean2</th>\n",
       "      <th>non_zeros_proportion1</th>\n",
       "      <th>non_zeros_proportion2</th>\n",
       "      <th>raw_normalized_mean1</th>\n",
       "      <th>raw_normalized_mean2</th>\n",
       "      <th>is_de_fdr_0.05</th>\n",
       "      <th>comparison</th>\n",
       "      <th>group1</th>\n",
       "      <th>group2</th>\n",
       "    </tr>\n",
       "  </thead>\n",
       "  <tbody>\n",
       "    <tr>\n",
       "      <th>Hu.CD62P</th>\n",
       "      <td>0.888756</td>\n",
       "      <td>0.111244</td>\n",
       "      <td>2.078092</td>\n",
       "      <td>2.358508</td>\n",
       "      <td>2.272243</td>\n",
       "      <td>0.0</td>\n",
       "      <td>0.25</td>\n",
       "      <td>0.247274</td>\n",
       "      <td>0.301492</td>\n",
       "      <td>1.636038</td>\n",
       "      <td>...</td>\n",
       "      <td>4.301724</td>\n",
       "      <td>3.007229</td>\n",
       "      <td>0.758621</td>\n",
       "      <td>0.662651</td>\n",
       "      <td>NaN</td>\n",
       "      <td>NaN</td>\n",
       "      <td>False</td>\n",
       "      <td>0 vs Rest</td>\n",
       "      <td>0</td>\n",
       "      <td>Rest</td>\n",
       "    </tr>\n",
       "    <tr>\n",
       "      <th>Hu.HLA.DR</th>\n",
       "      <td>0.881953</td>\n",
       "      <td>0.118047</td>\n",
       "      <td>2.011054</td>\n",
       "      <td>7.464637</td>\n",
       "      <td>6.169066</td>\n",
       "      <td>0.0</td>\n",
       "      <td>0.25</td>\n",
       "      <td>0.370331</td>\n",
       "      <td>0.405734</td>\n",
       "      <td>1.654876</td>\n",
       "      <td>...</td>\n",
       "      <td>29.991379</td>\n",
       "      <td>11.322891</td>\n",
       "      <td>0.978448</td>\n",
       "      <td>0.922892</td>\n",
       "      <td>NaN</td>\n",
       "      <td>NaN</td>\n",
       "      <td>False</td>\n",
       "      <td>0 vs Rest</td>\n",
       "      <td>0</td>\n",
       "      <td>Rest</td>\n",
       "    </tr>\n",
       "    <tr>\n",
       "      <th>Hu.CD1c</th>\n",
       "      <td>0.874950</td>\n",
       "      <td>0.125050</td>\n",
       "      <td>1.945453</td>\n",
       "      <td>2.724365</td>\n",
       "      <td>2.327896</td>\n",
       "      <td>0.0</td>\n",
       "      <td>0.25</td>\n",
       "      <td>0.342799</td>\n",
       "      <td>0.368826</td>\n",
       "      <td>1.497016</td>\n",
       "      <td>...</td>\n",
       "      <td>6.202586</td>\n",
       "      <td>4.534940</td>\n",
       "      <td>0.814655</td>\n",
       "      <td>0.672289</td>\n",
       "      <td>NaN</td>\n",
       "      <td>NaN</td>\n",
       "      <td>False</td>\n",
       "      <td>0 vs Rest</td>\n",
       "      <td>0</td>\n",
       "      <td>Rest</td>\n",
       "    </tr>\n",
       "    <tr>\n",
       "      <th>Hu.CD40</th>\n",
       "      <td>0.873549</td>\n",
       "      <td>0.126451</td>\n",
       "      <td>1.932713</td>\n",
       "      <td>5.110736</td>\n",
       "      <td>4.155727</td>\n",
       "      <td>0.0</td>\n",
       "      <td>0.25</td>\n",
       "      <td>0.354050</td>\n",
       "      <td>0.355344</td>\n",
       "      <td>1.598054</td>\n",
       "      <td>...</td>\n",
       "      <td>15.840517</td>\n",
       "      <td>7.245783</td>\n",
       "      <td>0.965517</td>\n",
       "      <td>0.889157</td>\n",
       "      <td>NaN</td>\n",
       "      <td>NaN</td>\n",
       "      <td>False</td>\n",
       "      <td>0 vs Rest</td>\n",
       "      <td>0</td>\n",
       "      <td>Rest</td>\n",
       "    </tr>\n",
       "    <tr>\n",
       "      <th>Hu.CD31</th>\n",
       "      <td>0.873349</td>\n",
       "      <td>0.126651</td>\n",
       "      <td>1.930903</td>\n",
       "      <td>3.030804</td>\n",
       "      <td>2.180837</td>\n",
       "      <td>0.0</td>\n",
       "      <td>0.25</td>\n",
       "      <td>0.513343</td>\n",
       "      <td>0.553572</td>\n",
       "      <td>1.438041</td>\n",
       "      <td>...</td>\n",
       "      <td>8.297414</td>\n",
       "      <td>3.209639</td>\n",
       "      <td>0.948276</td>\n",
       "      <td>0.785542</td>\n",
       "      <td>NaN</td>\n",
       "      <td>NaN</td>\n",
       "      <td>False</td>\n",
       "      <td>0 vs Rest</td>\n",
       "      <td>0</td>\n",
       "      <td>Rest</td>\n",
       "    </tr>\n",
       "    <tr>\n",
       "      <th>...</th>\n",
       "      <td>...</td>\n",
       "      <td>...</td>\n",
       "      <td>...</td>\n",
       "      <td>...</td>\n",
       "      <td>...</td>\n",
       "      <td>...</td>\n",
       "      <td>...</td>\n",
       "      <td>...</td>\n",
       "      <td>...</td>\n",
       "      <td>...</td>\n",
       "      <td>...</td>\n",
       "      <td>...</td>\n",
       "      <td>...</td>\n",
       "      <td>...</td>\n",
       "      <td>...</td>\n",
       "      <td>...</td>\n",
       "      <td>...</td>\n",
       "      <td>...</td>\n",
       "      <td>...</td>\n",
       "      <td>...</td>\n",
       "      <td>...</td>\n",
       "    </tr>\n",
       "    <tr>\n",
       "      <th>PCNP</th>\n",
       "      <td>0.156463</td>\n",
       "      <td>0.843537</td>\n",
       "      <td>-1.684787</td>\n",
       "      <td>0.000117</td>\n",
       "      <td>0.000113</td>\n",
       "      <td>0.0</td>\n",
       "      <td>0.25</td>\n",
       "      <td>0.055220</td>\n",
       "      <td>0.056949</td>\n",
       "      <td>0.170088</td>\n",
       "      <td>...</td>\n",
       "      <td>0.333333</td>\n",
       "      <td>0.358814</td>\n",
       "      <td>0.333333</td>\n",
       "      <td>0.287051</td>\n",
       "      <td>1.866352</td>\n",
       "      <td>1.140848</td>\n",
       "      <td>False</td>\n",
       "      <td>6 vs Rest</td>\n",
       "      <td>6</td>\n",
       "      <td>Rest</td>\n",
       "    </tr>\n",
       "    <tr>\n",
       "      <th>TUBGCP2</th>\n",
       "      <td>0.150860</td>\n",
       "      <td>0.849140</td>\n",
       "      <td>-1.727869</td>\n",
       "      <td>0.000086</td>\n",
       "      <td>0.000086</td>\n",
       "      <td>0.0</td>\n",
       "      <td>0.25</td>\n",
       "      <td>-0.002826</td>\n",
       "      <td>-0.001178</td>\n",
       "      <td>0.176672</td>\n",
       "      <td>...</td>\n",
       "      <td>0.166667</td>\n",
       "      <td>0.157566</td>\n",
       "      <td>0.166667</td>\n",
       "      <td>0.137285</td>\n",
       "      <td>0.865351</td>\n",
       "      <td>0.467735</td>\n",
       "      <td>False</td>\n",
       "      <td>6 vs Rest</td>\n",
       "      <td>6</td>\n",
       "      <td>Rest</td>\n",
       "    </tr>\n",
       "    <tr>\n",
       "      <th>RNPS1</th>\n",
       "      <td>0.127851</td>\n",
       "      <td>0.872149</td>\n",
       "      <td>-1.920093</td>\n",
       "      <td>0.000140</td>\n",
       "      <td>0.000137</td>\n",
       "      <td>0.0</td>\n",
       "      <td>0.25</td>\n",
       "      <td>0.030187</td>\n",
       "      <td>0.025493</td>\n",
       "      <td>0.160384</td>\n",
       "      <td>...</td>\n",
       "      <td>0.000000</td>\n",
       "      <td>0.474259</td>\n",
       "      <td>0.000000</td>\n",
       "      <td>0.351014</td>\n",
       "      <td>0.000000</td>\n",
       "      <td>1.490342</td>\n",
       "      <td>False</td>\n",
       "      <td>6 vs Rest</td>\n",
       "      <td>6</td>\n",
       "      <td>Rest</td>\n",
       "    </tr>\n",
       "    <tr>\n",
       "      <th>ACTR2</th>\n",
       "      <td>0.123449</td>\n",
       "      <td>0.876551</td>\n",
       "      <td>-1.960163</td>\n",
       "      <td>0.000160</td>\n",
       "      <td>0.000157</td>\n",
       "      <td>0.0</td>\n",
       "      <td>0.25</td>\n",
       "      <td>0.028264</td>\n",
       "      <td>0.032110</td>\n",
       "      <td>0.163708</td>\n",
       "      <td>...</td>\n",
       "      <td>0.833333</td>\n",
       "      <td>0.630265</td>\n",
       "      <td>0.666667</td>\n",
       "      <td>0.422777</td>\n",
       "      <td>3.339299</td>\n",
       "      <td>1.932439</td>\n",
       "      <td>False</td>\n",
       "      <td>6 vs Rest</td>\n",
       "      <td>6</td>\n",
       "      <td>Rest</td>\n",
       "    </tr>\n",
       "    <tr>\n",
       "      <th>SNX6</th>\n",
       "      <td>0.099840</td>\n",
       "      <td>0.900160</td>\n",
       "      <td>-2.199004</td>\n",
       "      <td>0.000113</td>\n",
       "      <td>0.000114</td>\n",
       "      <td>0.0</td>\n",
       "      <td>0.25</td>\n",
       "      <td>-0.012337</td>\n",
       "      <td>-0.007137</td>\n",
       "      <td>0.152144</td>\n",
       "      <td>...</td>\n",
       "      <td>0.333333</td>\n",
       "      <td>0.363495</td>\n",
       "      <td>0.333333</td>\n",
       "      <td>0.291732</td>\n",
       "      <td>1.381253</td>\n",
       "      <td>1.173359</td>\n",
       "      <td>False</td>\n",
       "      <td>6 vs Rest</td>\n",
       "      <td>6</td>\n",
       "      <td>Rest</td>\n",
       "    </tr>\n",
       "  </tbody>\n",
       "</table>\n",
       "<p>103089 rows × 22 columns</p>\n",
       "</div>"
      ],
      "text/plain": [
       "           proba_de  proba_not_de  bayes_factor    scale1    scale2  \\\n",
       "Hu.CD62P   0.888756      0.111244      2.078092  2.358508  2.272243   \n",
       "Hu.HLA.DR  0.881953      0.118047      2.011054  7.464637  6.169066   \n",
       "Hu.CD1c    0.874950      0.125050      1.945453  2.724365  2.327896   \n",
       "Hu.CD40    0.873549      0.126451      1.932713  5.110736  4.155727   \n",
       "Hu.CD31    0.873349      0.126651      1.930903  3.030804  2.180837   \n",
       "...             ...           ...           ...       ...       ...   \n",
       "PCNP       0.156463      0.843537     -1.684787  0.000117  0.000113   \n",
       "TUBGCP2    0.150860      0.849140     -1.727869  0.000086  0.000086   \n",
       "RNPS1      0.127851      0.872149     -1.920093  0.000140  0.000137   \n",
       "ACTR2      0.123449      0.876551     -1.960163  0.000160  0.000157   \n",
       "SNX6       0.099840      0.900160     -2.199004  0.000113  0.000114   \n",
       "\n",
       "           pseudocounts  delta  lfc_mean  lfc_median   lfc_std  ...  \\\n",
       "Hu.CD62P            0.0   0.25  0.247274    0.301492  1.636038  ...   \n",
       "Hu.HLA.DR           0.0   0.25  0.370331    0.405734  1.654876  ...   \n",
       "Hu.CD1c             0.0   0.25  0.342799    0.368826  1.497016  ...   \n",
       "Hu.CD40             0.0   0.25  0.354050    0.355344  1.598054  ...   \n",
       "Hu.CD31             0.0   0.25  0.513343    0.553572  1.438041  ...   \n",
       "...                 ...    ...       ...         ...       ...  ...   \n",
       "PCNP                0.0   0.25  0.055220    0.056949  0.170088  ...   \n",
       "TUBGCP2             0.0   0.25 -0.002826   -0.001178  0.176672  ...   \n",
       "RNPS1               0.0   0.25  0.030187    0.025493  0.160384  ...   \n",
       "ACTR2               0.0   0.25  0.028264    0.032110  0.163708  ...   \n",
       "SNX6                0.0   0.25 -0.012337   -0.007137  0.152144  ...   \n",
       "\n",
       "           raw_mean1  raw_mean2  non_zeros_proportion1  non_zeros_proportion2  \\\n",
       "Hu.CD62P    4.301724   3.007229               0.758621               0.662651   \n",
       "Hu.HLA.DR  29.991379  11.322891               0.978448               0.922892   \n",
       "Hu.CD1c     6.202586   4.534940               0.814655               0.672289   \n",
       "Hu.CD40    15.840517   7.245783               0.965517               0.889157   \n",
       "Hu.CD31     8.297414   3.209639               0.948276               0.785542   \n",
       "...              ...        ...                    ...                    ...   \n",
       "PCNP        0.333333   0.358814               0.333333               0.287051   \n",
       "TUBGCP2     0.166667   0.157566               0.166667               0.137285   \n",
       "RNPS1       0.000000   0.474259               0.000000               0.351014   \n",
       "ACTR2       0.833333   0.630265               0.666667               0.422777   \n",
       "SNX6        0.333333   0.363495               0.333333               0.291732   \n",
       "\n",
       "           raw_normalized_mean1  raw_normalized_mean2  is_de_fdr_0.05  \\\n",
       "Hu.CD62P                    NaN                   NaN           False   \n",
       "Hu.HLA.DR                   NaN                   NaN           False   \n",
       "Hu.CD1c                     NaN                   NaN           False   \n",
       "Hu.CD40                     NaN                   NaN           False   \n",
       "Hu.CD31                     NaN                   NaN           False   \n",
       "...                         ...                   ...             ...   \n",
       "PCNP                   1.866352              1.140848           False   \n",
       "TUBGCP2                0.865351              0.467735           False   \n",
       "RNPS1                  0.000000              1.490342           False   \n",
       "ACTR2                  3.339299              1.932439           False   \n",
       "SNX6                   1.381253              1.173359           False   \n",
       "\n",
       "           comparison  group1 group2  \n",
       "Hu.CD62P    0 vs Rest       0   Rest  \n",
       "Hu.HLA.DR   0 vs Rest       0   Rest  \n",
       "Hu.CD1c     0 vs Rest       0   Rest  \n",
       "Hu.CD40     0 vs Rest       0   Rest  \n",
       "Hu.CD31     0 vs Rest       0   Rest  \n",
       "...               ...     ...    ...  \n",
       "PCNP        6 vs Rest       6   Rest  \n",
       "TUBGCP2     6 vs Rest       6   Rest  \n",
       "RNPS1       6 vs Rest       6   Rest  \n",
       "ACTR2       6 vs Rest       6   Rest  \n",
       "SNX6        6 vs Rest       6   Rest  \n",
       "\n",
       "[103089 rows x 22 columns]"
      ]
     },
     "execution_count": 12,
     "metadata": {},
     "output_type": "execute_result"
    }
   ],
   "source": [
    "degs"
   ]
  },
  {
   "cell_type": "code",
   "execution_count": 14,
   "id": "cc2a4e8f-973d-4d2a-aaa6-54c7f2b2cbe7",
   "metadata": {},
   "outputs": [
    {
     "data": {
      "text/plain": [
       "array(['0', '1', '2', '3', '4', '5', '6'], dtype=object)"
      ]
     },
     "execution_count": 14,
     "metadata": {},
     "output_type": "execute_result"
    }
   ],
   "source": [
    "degs[\"group1\"].unique()"
   ]
  },
  {
   "cell_type": "code",
   "execution_count": 19,
   "id": "21ae3cbd-97ea-4c4d-a6ec-39b90b4a5b1a",
   "metadata": {},
   "outputs": [],
   "source": [
    "deg_dict = {i: degs.loc[degs[\"group1\"] == i,:] for i in degs[\"group1\"].unique()}"
   ]
  },
  {
   "cell_type": "code",
   "execution_count": 21,
   "id": "fddcc063-c90d-4f50-b99f-14df163897c5",
   "metadata": {},
   "outputs": [
    {
     "data": {
      "text/plain": [
       "7"
      ]
     },
     "execution_count": 21,
     "metadata": {},
     "output_type": "execute_result"
    }
   ],
   "source": [
    "degs[\"group1\"].nunique()"
   ]
  }
 ],
 "metadata": {
  "kernelspec": {
   "display_name": "Python 3 (ipykernel)",
   "language": "python",
   "name": "python3"
  },
  "language_info": {
   "codemirror_mode": {
    "name": "ipython",
    "version": 3
   },
   "file_extension": ".py",
   "mimetype": "text/x-python",
   "name": "python",
   "nbconvert_exporter": "python",
   "pygments_lexer": "ipython3",
   "version": "3.10.13"
  },
  "toc-autonumbering": false,
  "toc-showcode": false
 },
 "nbformat": 4,
 "nbformat_minor": 5
}
